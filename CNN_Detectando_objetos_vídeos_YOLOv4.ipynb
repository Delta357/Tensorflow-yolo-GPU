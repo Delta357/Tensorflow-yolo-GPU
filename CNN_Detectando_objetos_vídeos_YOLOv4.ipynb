{
  "nbformat": 4,
  "nbformat_minor": 0,
  "metadata": {
    "colab": {
      "name": "CNN - Detectando objetos em vídeos com YOLOv4 e OpenCV.ipynb",
      "private_outputs": true,
      "provenance": [],
      "authorship_tag": "ABX9TyOHSuiye0qKVJzOWIhlO8GZ",
      "include_colab_link": true
    },
    "kernelspec": {
      "name": "python3",
      "display_name": "Python 3"
    },
    "language_info": {
      "name": "python"
    },
    "accelerator": "GPU"
  },
  "cells": [
    {
      "cell_type": "markdown",
      "metadata": {
        "id": "view-in-github",
        "colab_type": "text"
      },
      "source": [
        "<a href=\"https://colab.research.google.com/github/RafaelGallo/Tensorflow-yolo-GPU/blob/main/CNN_Detectando_objetos_v%C3%ADdeos_YOLOv4.ipynb\" target=\"_parent\"><img src=\"https://colab.research.google.com/assets/colab-badge.svg\" alt=\"Open In Colab\"/></a>"
      ]
    },
    {
      "cell_type": "markdown",
      "metadata": {
        "id": "MZUaCUDS5wzO"
      },
      "source": [
        "**CNN - Yolo Reconhecimento de objetos com Yolo e Opencv**"
      ]
    },
    {
      "cell_type": "code",
      "metadata": {
        "id": "4_-1zFf35v7_"
      },
      "source": [
        "from platform import python_version\n",
        "\n",
        "print('Versão python neste Jupyter Notebook:', python_version())"
      ],
      "execution_count": null,
      "outputs": []
    },
    {
      "cell_type": "code",
      "metadata": {
        "id": "FsWajaNg2frb"
      },
      "source": [
        "from google.colab import drive\n",
        "\n",
        "drive.mount('/content/gdrive')"
      ],
      "execution_count": null,
      "outputs": []
    },
    {
      "cell_type": "code",
      "metadata": {
        "id": "_Biden2B3VZc"
      },
      "source": [
        "!pip install opencv-python==4.4.0.40"
      ],
      "execution_count": null,
      "outputs": []
    },
    {
      "cell_type": "code",
      "metadata": {
        "id": "2mejiPRR2YdR"
      },
      "source": [
        "import cv2\n",
        "import numpy as np\n",
        "import time\n",
        "import os\n",
        "import warnings\n",
        "warnings.filterwarnings(\"ignore\")\n",
        "import matplotlib.pyplot as plt \n",
        "from google.colab.patches import cv2_imshow\n",
        "import zipfile"
      ],
      "execution_count": null,
      "outputs": []
    },
    {
      "cell_type": "code",
      "metadata": {
        "id": "grI-fetN5uF2"
      },
      "source": [
        "%reload_ext watermark\n",
        "%watermark -a \"Rafael Gallo\" --iversions"
      ],
      "execution_count": null,
      "outputs": []
    },
    {
      "cell_type": "code",
      "metadata": {
        "id": "-oOUntuv2fub"
      },
      "source": [
        "# Carregando os arquivos do modelo treinado\n",
        "\n",
        "path =  '/content/gdrive/MyDrive/Colab Notebooks/Detecção de Objetos com YOLO, Darknet, OpenCV e Python - Udemy/modelo_YOLOv4.zip'\n",
        "zip_object = zipfile.ZipFile(file=path, mode=\"r\")\n",
        "zip_object.extractall(\"./\")\n",
        "zip_object.close()"
      ],
      "execution_count": null,
      "outputs": []
    },
    {
      "cell_type": "code",
      "metadata": {
        "id": "cN79Af1H3K5O"
      },
      "source": [
        "labels_path = os.path.sep.join(['/content/cfg', \"coco.names\"])\n",
        "LABELS = open(labels_path).read().strip().split(\"\\n\")\n",
        "\n",
        "weights_path = os.path.sep.join(['/content/', \"yolov4.weights\"])\n",
        "config_path = os.path.sep.join(['/content/cfg', \"yolov4.cfg\"])\n",
        "\n",
        "net = cv2.dnn.readNet(config_path, weights_path)"
      ],
      "execution_count": null,
      "outputs": []
    },
    {
      "cell_type": "code",
      "metadata": {
        "id": "DNc4mDZE3K_E"
      },
      "source": [
        "# Definindo a detecção\n",
        "\n",
        "np.random.seed(42)\n",
        "COLORS = np.random.randint(0, 255, size=(len(LABELS), 3), dtype=\"uint8\")\n",
        "ln = net.getLayerNames()\n",
        "\n",
        "print(\"Todas as camadas (layers):\")\n",
        "print(ln)\n",
        "print(\"Total: \"+ str(len(ln)))\n",
        "print(\"Camadas de saída: \")\n",
        "print(net.getUnconnectedOutLayers())\n",
        "\n",
        "ln = [ln[i[0] - 1] for i in net.getUnconnectedOutLayers()]\n",
        "print(ln)"
      ],
      "execution_count": null,
      "outputs": []
    },
    {
      "cell_type": "code",
      "metadata": {
        "id": "_xQmZJlU3LE-"
      },
      "source": [
        "# Criando funções detecção video\n",
        "\n",
        "def mostrar(img):\n",
        "  fig = plt.gcf()\n",
        "  fig.set_size_inches(16, 10)\n",
        "  plt.axis(\"off\")\n",
        "  plt.imshow(cv2.cvtColor(img, cv2.COLOR_BGR2RGB))\n",
        "  plt.show()\n",
        "\n",
        "# Construindo o blob da imagem\n",
        "\n",
        "def blob_imagem(net, imagem, mostrar_texto=True):\n",
        "  inicio = time.time() \n",
        "  blob = cv2.dnn.blobFromImage(imagem, 1 / 255.0, (416, 416), swapRB=True, crop=False)\n",
        "  net.setInput(blob)\n",
        "  layerOutputs = net.forward(ln)\n",
        "  termino = time.time()\n",
        "  if mostrar_texto:\n",
        "    print(\"YOLO levou {:.2f} segundos\".format(termino - inicio))\n",
        "  return net, imagem, layerOutputs\n",
        "\n",
        "#Realizando a detecção\n",
        "\n",
        "def deteccoes(detection, _threshold, caixas, confiancas, IDclasses):\n",
        "  scores = detection[5:] \n",
        "  classeID = np.argmax(scores)  \n",
        "  confianca = scores[classeID]\n",
        "\n",
        "  if confianca > _threshold:\n",
        "      caixa = detection[0:4] * np.array([W, H, W, H])     \n",
        "      (centerX, centerY, width, height) = caixa.astype(\"int\")\n",
        "            \n",
        "      x = int(centerX - (width / 2))\n",
        "      y = int(centerY - (height / 2))\n",
        "\n",
        "      caixas.append([x, y, int(width), int(height)])\n",
        "      confiancas.append(float(confianca))\n",
        "      IDclasses.append(classeID)\n",
        "      \n",
        "  return caixas, confiancas, IDclasses\n",
        "\n",
        "#Mostrando o resultado da detecção no video\n",
        "def funcoes_imagem(imagem, i, confiancas, caixas, COLORS, LABELS, mostrar_texto=True):  \n",
        "  (x, y) = (caixas[i][0], caixas[i][1])\n",
        "  (w, h) = (caixas[i][2], caixas[i][3])\n",
        "\n",
        "  cor = [int(c) for c in COLORS[IDclasses[i]]]\n",
        "  cv2.rectangle(imagem, (x, y), (x + w, y + h), cor, 2) \n",
        "  texto = \"{}: {:.4f}\".format(LABELS[IDclasses[i]], confiancas[i])\n",
        "  if mostrar_texto:\n",
        "    print(\"> \" + texto)\n",
        "    print(x,y,w,h)\n",
        "  cv2.putText(imagem, texto, (x, y - 5), cv2.FONT_HERSHEY_SIMPLEX, 0.5, cor, 2)\n",
        "\n",
        "  return imagem,x,y,w,h"
      ],
      "execution_count": null,
      "outputs": []
    },
    {
      "cell_type": "code",
      "metadata": {
        "id": "rE6Vj88u3xbk"
      },
      "source": [
        "# Carregando vídeo para detecção\n",
        "\n",
        "!cp /content/gdrive/MyDrive/Colab Notebooks/Detecção de Objetos com YOLO, Darknet, OpenCV e Python - Udemy/videos/NY_2.mp4"
      ],
      "execution_count": null,
      "outputs": []
    },
    {
      "cell_type": "code",
      "metadata": {
        "id": "sJX2xPVf3xfk"
      },
      "source": [
        "# Lendo arquivo vídeo com o OpenCV\n",
        "\n",
        "arquivo_video = '/content/gdrive/MyDrive/Colab Notebooks/Detecção de Objetos com YOLO, Darknet, OpenCV e Python - Udemy/videos/NY_2.mp4'\n",
        "cap = cv2.VideoCapture(arquivo_video)\n",
        "conectado, video = cap.read()\n",
        "conectado"
      ],
      "execution_count": null,
      "outputs": []
    },
    {
      "cell_type": "code",
      "metadata": {
        "id": "pOMSzckd3xir"
      },
      "source": [
        "video.shape"
      ],
      "execution_count": null,
      "outputs": []
    },
    {
      "cell_type": "code",
      "metadata": {
        "id": "fi-8R5HU3xlm"
      },
      "source": [
        "video_largura = video.shape[1]\n",
        "video_altura = video.shape[0]\n",
        "video_largura, video_altura"
      ],
      "execution_count": null,
      "outputs": []
    },
    {
      "cell_type": "code",
      "metadata": {
        "id": "JjtDsP7-3xo2"
      },
      "source": [
        "# Redimensionamento tamanho video\n",
        "\n",
        "def redimensionar(largura, altura, largura_maxima = 600): \n",
        "  if (largura > largura_maxima):\n",
        "    proporcao = largura / altura\n",
        "    video_largura = largura_maxima\n",
        "    video_altura = int(video_largura / proporcao)\n",
        "  else:\n",
        "    video_largura = largura\n",
        "    video_altura = altura\n",
        "  return video_largura, video_altura\n",
        "\n",
        "video_largura, video_altura = redimensionar(video.shape[1], video.shape[0])\n",
        "print(video_largura,video_altura)"
      ],
      "execution_count": null,
      "outputs": []
    },
    {
      "cell_type": "code",
      "metadata": {
        "id": "4Pg9Bjyl3xrm"
      },
      "source": [
        "# Definindo configurações vídeo\n",
        "\n",
        "nome_arquivo = 'resultado_1.avi' \n",
        "fourcc = cv2.VideoWriter_fourcc(*'XVID') \n",
        "fps = 24\n",
        "saida_video = cv2.VideoWriter(nome_arquivo, fourcc, fps, (video_largura, video_altura))"
      ],
      "execution_count": null,
      "outputs": []
    },
    {
      "cell_type": "code",
      "metadata": {
        "id": "Zweh63FA3xuT"
      },
      "source": [
        "# Definindo variáveis\n",
        "\n",
        "threshold = 0.5\n",
        "threshold_NMS = 0.3\n",
        "fonte_pequena, fonte_media = 0.4, 0.6\n",
        "fonte = cv2.FONT_HERSHEY_SIMPLEX\n",
        "amostras_exibir = 20\n",
        "amostra_atual = 0"
      ],
      "execution_count": null,
      "outputs": []
    },
    {
      "cell_type": "code",
      "metadata": {
        "id": "Ck9kurZI3xw9"
      },
      "source": [
        "# Processamento do vídeo e exibição do resultado\n",
        "\n",
        "while (cv2.waitKey(1) < 0):\n",
        "  conectado, frame = cap.read()\n",
        "  if not conectado:\n",
        "    break\n",
        "  t = time.time()\n",
        "  frame = cv2.resize(frame, (video_largura, video_altura))\n",
        "  try:\n",
        "    (H, W) = frame.shape[:2]\n",
        "  except:\n",
        "    print('Erro')\n",
        "    continue\n",
        "\n",
        "  imagem_cp = frame.copy() \n",
        "  net, frame, layerOutputs = blob_imagem(net, frame)\n",
        "  caixas = []       \n",
        "  confiancas = []   \n",
        "  IDclasses = []    \n",
        "\n",
        "  for output in layerOutputs:\n",
        "    for detection in output:\n",
        "      caixas, confiancas, IDclasses = deteccoes(detection, threshold, caixas, confiancas, IDclasses)\n",
        "\n",
        "  objs = cv2.dnn.NMSBoxes(caixas, confiancas, threshold, threshold_NMS)\n",
        "\n",
        "  if len(objs) > 0:\n",
        "    for i in objs.flatten():\n",
        "      frame, x, y, w, h = funcoes_imagem(frame, i, confiancas, caixas, COLORS, LABELS, mostrar_texto=False)\n",
        "      objeto = imagem_cp[y:y + h, x:x + w]\n",
        "  \n",
        "  cv2.putText(frame, \" frame processado em {:.2f} segundos\".format(time.time() - t), \n",
        "              (20, video_altura-20), fonte, fonte_pequena, (250, 250, 250), 0, lineType=cv2.LINE_AA)\n",
        "  \n",
        "  if amostra_atual <= amostras_exibir:\n",
        "    cv2_imshow(frame)\n",
        "    amostra_atual += 1\n",
        "\n",
        "  saida_video.write(frame)\n",
        "\n",
        "print('CNN Yolo - Terminou')\n",
        "saida_video.release()\n",
        "cv2.destroyAllWindows()"
      ],
      "execution_count": null,
      "outputs": []
    },
    {
      "cell_type": "code",
      "metadata": {
        "id": "XE8MLCcW5P8Q"
      },
      "source": [
        "# Download do video para o seu computador executando\n",
        "\n",
        "!du -h resultado_1.avi\n",
        "from google.colab import files\n",
        "\n",
        "files.download(\"resultado_1.avi\")"
      ],
      "execution_count": null,
      "outputs": []
    },
    {
      "cell_type": "code",
      "metadata": {
        "id": "rx4m_-2I3x28"
      },
      "source": [
        ""
      ],
      "execution_count": null,
      "outputs": []
    },
    {
      "cell_type": "code",
      "metadata": {
        "id": "z2Q3RZnW3x5e"
      },
      "source": [
        ""
      ],
      "execution_count": null,
      "outputs": []
    },
    {
      "cell_type": "code",
      "metadata": {
        "id": "s7inlFIt3x8T"
      },
      "source": [
        ""
      ],
      "execution_count": null,
      "outputs": []
    },
    {
      "cell_type": "code",
      "metadata": {
        "id": "CVtiUHGa3x_V"
      },
      "source": [
        ""
      ],
      "execution_count": null,
      "outputs": []
    },
    {
      "cell_type": "code",
      "metadata": {
        "id": "5rXhsi-a3yB_"
      },
      "source": [
        ""
      ],
      "execution_count": null,
      "outputs": []
    },
    {
      "cell_type": "code",
      "metadata": {
        "id": "fY6KooZE3yE2"
      },
      "source": [
        ""
      ],
      "execution_count": null,
      "outputs": []
    },
    {
      "cell_type": "code",
      "metadata": {
        "id": "C-6FuRqA3yHk"
      },
      "source": [
        ""
      ],
      "execution_count": null,
      "outputs": []
    },
    {
      "cell_type": "code",
      "metadata": {
        "id": "GbhVAzCq3yKV"
      },
      "source": [
        ""
      ],
      "execution_count": null,
      "outputs": []
    },
    {
      "cell_type": "code",
      "metadata": {
        "id": "GmrpWt2X3LH1"
      },
      "source": [
        ""
      ],
      "execution_count": null,
      "outputs": []
    },
    {
      "cell_type": "code",
      "metadata": {
        "id": "wvKg-elA3LK-"
      },
      "source": [
        ""
      ],
      "execution_count": null,
      "outputs": []
    },
    {
      "cell_type": "code",
      "metadata": {
        "id": "0I3bUfFA3LNv"
      },
      "source": [
        ""
      ],
      "execution_count": null,
      "outputs": []
    },
    {
      "cell_type": "code",
      "metadata": {
        "id": "AsCFqnyQ3LQ7"
      },
      "source": [
        ""
      ],
      "execution_count": null,
      "outputs": []
    },
    {
      "cell_type": "code",
      "metadata": {
        "id": "-UWMXGxM3LTk"
      },
      "source": [
        ""
      ],
      "execution_count": null,
      "outputs": []
    },
    {
      "cell_type": "code",
      "metadata": {
        "id": "WyIuvtG-3LWn"
      },
      "source": [
        ""
      ],
      "execution_count": null,
      "outputs": []
    },
    {
      "cell_type": "code",
      "metadata": {
        "id": "oFhaPHZP2fxK"
      },
      "source": [
        ""
      ],
      "execution_count": null,
      "outputs": []
    },
    {
      "cell_type": "code",
      "metadata": {
        "id": "acVP8-NX2fz8"
      },
      "source": [
        ""
      ],
      "execution_count": null,
      "outputs": []
    },
    {
      "cell_type": "code",
      "metadata": {
        "id": "iOhunw8q2f2t"
      },
      "source": [
        ""
      ],
      "execution_count": null,
      "outputs": []
    },
    {
      "cell_type": "code",
      "metadata": {
        "id": "uKs-EJJS2f5S"
      },
      "source": [
        ""
      ],
      "execution_count": null,
      "outputs": []
    },
    {
      "cell_type": "code",
      "metadata": {
        "id": "CXtk4Bgg2f8N"
      },
      "source": [
        ""
      ],
      "execution_count": null,
      "outputs": []
    },
    {
      "cell_type": "code",
      "metadata": {
        "id": "MBuQUFxX2f-6"
      },
      "source": [
        ""
      ],
      "execution_count": null,
      "outputs": []
    },
    {
      "cell_type": "code",
      "metadata": {
        "id": "UU-MmRxz2gBy"
      },
      "source": [
        ""
      ],
      "execution_count": null,
      "outputs": []
    },
    {
      "cell_type": "code",
      "metadata": {
        "id": "g0SxWYnO2gEq"
      },
      "source": [
        ""
      ],
      "execution_count": null,
      "outputs": []
    },
    {
      "cell_type": "code",
      "metadata": {
        "id": "XkZz4LoW2gHi"
      },
      "source": [
        ""
      ],
      "execution_count": null,
      "outputs": []
    }
  ]
}